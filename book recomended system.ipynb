{
  "nbformat": 4,
  "nbformat_minor": 0,
  "metadata": {
    "colab": {
      "provenance": []
    },
    "kernelspec": {
      "name": "python3",
      "display_name": "Python 3"
    },
    "language_info": {
      "name": "python"
    }
  },
  "cells": [
    {
      "cell_type": "code",
      "execution_count": 9,
      "metadata": {
        "id": "NWzLtoF8VkL6"
      },
      "outputs": [],
      "source": [
        "import pandas as pd\n",
        "import numpy as np\n",
        "import matplotlib.pyplot as plt\n",
        "import seaborn as sns"
      ]
    },
    {
      "cell_type": "code",
      "source": [
        "books_df = pd.read_csv('/content/books.csv')\n",
        "books_df.fillna('', inplace=True)\n"
      ],
      "metadata": {
        "id": "yqd9NZ0dNl9q"
      },
      "execution_count": 10,
      "outputs": []
    },
    {
      "cell_type": "code",
      "source": [
        "books_df['combined_features'] = books_df.apply(lambda row: f\"{row['title']} {row['authors']} {row['publisher']}\", axis=1)\n",
        "\n"
      ],
      "metadata": {
        "id": "HYusKxlQNyDC"
      },
      "execution_count": 11,
      "outputs": []
    },
    {
      "cell_type": "code",
      "source": [
        "from sklearn.feature_extraction.text import TfidfVectorizer\n",
        "from sklearn.metrics.pairwise import linear_kernel\n",
        "\n",
        "tfidf = TfidfVectorizer(stop_words='english')\n",
        "tfidf_matrix = tfidf.fit_transform(books_df['combined_features'])\n",
        "\n",
        "cosine_sim = linear_kernel(tfidf_matrix, tfidf_matrix)\n"
      ],
      "metadata": {
        "id": "jqXBidmwN9H5"
      },
      "execution_count": 12,
      "outputs": []
    },
    {
      "cell_type": "code",
      "source": [
        "def get_recommendations(title, cosine_sim=cosine_sim):\n",
        "    idx = books_df[books_df['title'].str.contains(title, case=False)].index[0]\n",
        "    sim_scores = list(enumerate(cosine_sim[idx]))\n",
        "    sim_scores = sorted(sim_scores, key=lambda x: x[1], reverse=True)\n",
        "    book_indices = [i[0] for i in sim_scores[1:11]]\n",
        "    return books_df['title'].iloc[book_indices]\n",
        "\n",
        "recommendations = get_recommendations(\"Harry Potter and the Half-Blood Prince\")\n",
        "print(recommendations)\n"
      ],
      "metadata": {
        "colab": {
          "base_uri": "https://localhost:8080/"
        },
        "id": "fl5OM3c2OOKx",
        "outputId": "185140c4-6598-48c3-e417-106765b89f57"
      },
      "execution_count": 13,
      "outputs": [
        {
          "output_type": "stream",
          "name": "stdout",
          "text": [
            "615      Harry Potter and the Half-Blood Prince (Harry ...\n",
            "1        Harry Potter and the Order of the Phoenix (Har...\n",
            "4        Harry Potter Boxed Set  Books 1-5 (Harry Potte...\n",
            "3        Harry Potter and the Prisoner of Azkaban (Harr...\n",
            "6             Harry Potter Collection (Harry Potter  #1-6)\n",
            "4416     Harry Potter and the Chamber of Secrets (Harry...\n",
            "2        Harry Potter and the Chamber of Secrets (Harry...\n",
            "10679    Harry Potter and the Goblet of Fire (Harry Pot...\n",
            "8876     Harry Potter and the Sorcerer's Stone (Harry P...\n",
            "1233     Harry Potter and the Prisoner of Azkaban (Harr...\n",
            "Name: title, dtype: object\n"
          ]
        }
      ]
    },
    {
      "cell_type": "code",
      "source": [
        "recommendations = get_recommendations(\"Notes from a Small Island\")\n",
        "print(recommendations)"
      ],
      "metadata": {
        "colab": {
          "base_uri": "https://localhost:8080/"
        },
        "id": "lA1HPG5iRbbX",
        "outputId": "95019581-866e-48d3-d663-6001c547c1f8"
      },
      "execution_count": 14,
      "outputs": [
        {
          "output_type": "stream",
          "name": "stdout",
          "text": [
            "17       The Lost Continent: Travels in Small Town America\n",
            "18               Neither Here nor There: Travels in Europe\n",
            "10526                      Bill Bryson: The Complete Notes\n",
            "20       The Mother Tongue: English and How It Got That...\n",
            "10788                                         Small Island\n",
            "5555                           Bill Bryson's African Diary\n",
            "13                             Bill Bryson's African Diary\n",
            "2834     The Lost Continent:  Travels in Small-town Ame...\n",
            "272                                              The Big U\n",
            "8857                                 The Girl in the Glass\n",
            "Name: title, dtype: object\n"
          ]
        }
      ]
    }
  ]
}